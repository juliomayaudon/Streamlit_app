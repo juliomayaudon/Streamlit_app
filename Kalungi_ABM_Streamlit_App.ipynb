{
  "nbformat": 4,
  "nbformat_minor": 0,
  "metadata": {
    "colab": {
      "provenance": [],
      "include_colab_link": true
    },
    "kernelspec": {
      "name": "python3",
      "display_name": "Python 3"
    },
    "language_info": {
      "name": "python"
    }
  },
  "cells": [
    {
      "cell_type": "markdown",
      "metadata": {
        "id": "view-in-github",
        "colab_type": "text"
      },
      "source": [
        "<a href=\"https://colab.research.google.com/github/juliomayaudon/Streamlit_app/blob/main/Kalungi_ABM_Streamlit_App.ipynb\" target=\"_parent\"><img src=\"https://colab.research.google.com/assets/colab-badge.svg\" alt=\"Open In Colab\"/></a>"
      ]
    },
    {
      "cell_type": "code",
      "source": [
        "#@title Run just once\n",
        "\n",
        "from google.colab import output\n",
        "\n",
        "!pip freeze | grep python-dotenv || pip install python-dotenv\n",
        "output.clear()\n",
        "\n",
        "!pip freeze | grep requests || pip install requests\n",
        "output.clear()\n",
        "\n",
        "!pip freeze | grep beautifulsoup4 || pip install beautifulsoup4\n",
        "output.clear()\n",
        "\n",
        "!pip freeze | grep pandas || pip install pandas\n",
        "output.clear()\n",
        "\n",
        "!pip freeze | grep gspread || pip install gspread\n",
        "output.clear()\n",
        "\n",
        "!pip freeze | grep google-auth || pip install google-auth\n",
        "output.clear()\n",
        "\n",
        "!pip freeze | grep langchain || pip install langchain==0.0.349\n",
        "output.clear()\n",
        "\n",
        "!pip freeze | grep faiss-gpu || pip install faiss-gpu\n",
        "output.clear()\n",
        "\n",
        "!pip freeze | grep openai==0.28.1 || pip install openai==0.28.1\n",
        "output.clear()\n",
        "\n",
        "!pip freeze | grep gspread_dataframe || pip install gspread_dataframe\n",
        "output.clear()\n",
        "\n",
        "!pip freeze | grep tiktoken || pip install tiktoken\n",
        "output.clear()\n",
        "\n",
        "!pip freeze | grep tldextract || pip install tldextract\n",
        "output.clear()\n",
        "\n",
        "!pip freeze | grep nameparser || pip install nameparser\n",
        "output.clear()\n",
        "\n",
        "!pip install streamlit\n",
        "!pip install pyngrok\n",
        "!pip install zenrows\n",
        "!pip install PyDrive\n",
        "\n",
        "!pip install streamlit-lottie\n",
        "!pip install pillow\n",
        "\n",
        "!pip install openlimit\n",
        "\n",
        "!pip freeze | grep tldextract || pip install tldextract\n",
        "!pip freeze | grep playwright || pip install playwright\n",
        "!playwright install\n",
        "output.clear()\n",
        "\n",
        "from pydrive.auth import GoogleAuth\n",
        "from pydrive.drive import GoogleDrive\n",
        "from google.colab import auth\n",
        "from oauth2client.client import GoogleCredentials\n",
        "import os\n",
        "\n",
        "# Step 1: Authenticate and create the PyDrive client.\n",
        "auth.authenticate_user()\n",
        "gauth = GoogleAuth()\n",
        "gauth.credentials = GoogleCredentials.get_application_default()\n",
        "drive = GoogleDrive(gauth)\n",
        "\n",
        "folder_name = \".streamlit\"\n",
        "path = os.path.join(os.getcwd(), folder_name)\n",
        "if not os.path.exists(path):\n",
        "    os.makedirs(path)\n",
        "\n",
        "# Step 2: Get the file ID from the Google Drive URL.\n",
        "def extract_file_id(url):\n",
        "    import re\n",
        "    pattern = r\"[-\\w]{25,}\"\n",
        "    match = re.search(pattern, url)\n",
        "    if match:\n",
        "        return match.group(0)\n",
        "    else:\n",
        "        return None\n",
        "\n",
        "app_url = 'https://drive.google.com/file/d/1HXP5GD3ZdvdE45QNdACBT8ZIM4JtxMGB/view?usp=drive_link'\n",
        "app_file_id = extract_file_id(app_url)\n",
        "\n",
        "AI_QA_url = 'https://drive.google.com/file/d/14bkHTFFl0WGu0TUwDhu-ah4jSMyqAWc2/view?usp=drive_link'\n",
        "AI_QA_file_id = extract_file_id(AI_QA_url)\n",
        "\n",
        "LB_Script_url = 'https://drive.google.com/file/d/1aCNsf5dfoQLa_1MAgKBKxHFgKwR687Z0/view?usp=drive_link'\n",
        "LB_Script_file_id = extract_file_id(LB_Script_url)\n",
        "\n",
        "style_url = 'https://drive.google.com/file/d/15Tejvnxde3XgeDPKCs1OUCaEGXzbXizL/view?usp=drive_link'\n",
        "style_file_id = extract_file_id(style_url)\n",
        "\n",
        "secrets_url = 'https://drive.google.com/file/d/1LqZYC6dA3c4N8IT7W2yy8OuCF7B7kTTi/view?usp=drive_link'\n",
        "secrets_file_id = extract_file_id(secrets_url)\n",
        "\n",
        "\n",
        "soon_url = 'https://drive.google.com/file/d/16P4n-MO1ZbfXCZJJ3_JdoWuJazBtQHqE/view?usp=drive_link'\n",
        "soon_file_id = extract_file_id(soon_url)\n",
        "\n",
        "welcome_url = 'https://drive.google.com/file/d/1Z_Q6ZT269luj9iGctOdU7qx2IlUNBuBS/view?usp=drive_link'\n",
        "welcome_file_id = extract_file_id(welcome_url)\n",
        "\n",
        "lkdn_url = 'https://drive.google.com/file/d/1j0VbnhkVN9SwZNlCe5DqkimBzbBOLGb1/view?usp=drive_link'\n",
        "lkdn_file_id = extract_file_id(lkdn_url)\n",
        "\n",
        "TC_url = 'https://drive.google.com/file/d/17b6vzk5B-0iVoc0px2hajqS_kuHW0GG6/view?usp=drive_link'\n",
        "TC_file_id = extract_file_id(TC_url)\n",
        "\n",
        "# Step 3: Download the Scripts.\n",
        "app_downloaded = drive.CreateFile({'id': app_file_id})\n",
        "app_downloaded.GetContentFile('app.py')\n",
        "\n",
        "AI_QA_downloaded = drive.CreateFile({'id': AI_QA_file_id})\n",
        "AI_QA_downloaded.GetContentFile('AI_QA.py')\n",
        "\n",
        "LB_Script_downloaded = drive.CreateFile({'id': LB_Script_file_id})\n",
        "LB_Script_downloaded.GetContentFile('LB_Script.py')\n",
        "\n",
        "soon_downloaded = drive.CreateFile({'id': soon_file_id})\n",
        "soon_downloaded.GetContentFile('soon.py')\n",
        "\n",
        "welcome_downloaded = drive.CreateFile({'id': welcome_file_id})\n",
        "welcome_downloaded.GetContentFile('welcome.py')\n",
        "\n",
        "lkdn_downloaded = drive.CreateFile({'id': lkdn_file_id})\n",
        "lkdn_downloaded.GetContentFile('lkdn.py')\n",
        "\n",
        "TC_downloaded = drive.CreateFile({'id': TC_file_id})\n",
        "TC_downloaded.GetContentFile('TC.py')\n",
        "\n",
        "\n",
        "# Download and save config.toml in the .streamlit folder\n",
        "config_toml_path = os.path.join(path, 'config.toml')\n",
        "style_downloaded = drive.CreateFile({'id': style_file_id})\n",
        "style_downloaded.GetContentFile(config_toml_path)\n",
        "\n",
        "secrets_toml_path = os.path.join(path, 'secrets.toml')\n",
        "secrets_downloaded = drive.CreateFile({'id': secrets_file_id})\n",
        "secrets_downloaded.GetContentFile(secrets_toml_path)\n"
      ],
      "metadata": {
        "id": "WWw7_jaRJcOP",
        "collapsed": true,
        "outputId": "1a6fdaec-f2c6-414e-eb76-6c20dcb37c2a",
        "colab": {
          "base_uri": "https://localhost:8080/"
        }
      },
      "execution_count": 1,
      "outputs": [
        {
          "output_type": "stream",
          "name": "stderr",
          "text": [
            "WARNING:root:pydrive is deprecated and no longer maintained. We recommend that you migrate your projects to pydrive2, the maintained fork of pydrive\n"
          ]
        }
      ]
    },
    {
      "cell_type": "code",
      "source": [
        "#@title Fix Google Colab to install Selenium\n",
        "#--Fix Google Colab to install Selenium\n",
        "#--https://colab.research.google.com/drive/1cbEvuZOhkouYLda3RqiwtbM-o9hxGLyC#scrollTo=1VMonPRy4f6J\n",
        "%%shell\n",
        "# Ubuntu no longer distributes chromium-browser outside of snap\n",
        "# Proposed solution: https://askubuntu.com/questions/1204571/how-to-install-chromium-without-snap\n",
        "# Add debian buster\n",
        "cat > /etc/apt/sources.list.d/debian.list <<'EOF'\n",
        "deb [arch=amd64 signed-by=/usr/share/keyrings/debian-buster.gpg] http://deb.debian.org/debian buster main\n",
        "deb [arch=amd64 signed-by=/usr/share/keyrings/debian-buster-updates.gpg] http://deb.debian.org/debian buster-updates main\n",
        "deb [arch=amd64 signed-by=/usr/share/keyrings/debian-security-buster.gpg] http://deb.debian.org/debian-security buster/updates main\n",
        "EOF\n",
        "# Add keys\n",
        "apt-key adv --keyserver keyserver.ubuntu.com --recv-keys DCC9EFBF77E11517\n",
        "apt-key adv --keyserver keyserver.ubuntu.com --recv-keys 648ACFD622F3D138\n",
        "apt-key adv --keyserver keyserver.ubuntu.com --recv-keys 112695A0E562B32A\n",
        "#\n",
        "apt-key export 77E11517 | gpg --dearmour -o /usr/share/keyrings/debian-buster.gpg\n",
        "apt-key export 22F3D138 | gpg --dearmour -o /usr/share/keyrings/debian-buster-updates.gpg\n",
        "apt-key export E562B32A | gpg --dearmour -o /usr/share/keyrings/debian-security-buster.gpg\n",
        "# Prefer debian repo for chromium* packages only\n",
        "# Note the double-blank lines between entries\n",
        "cat > /etc/apt/preferences.d/chromium.pref << 'EOF'\n",
        "Package: *\n",
        "Pin: release a=eoan\n",
        "Pin-Priority: 500\n",
        "#\n",
        "Package: *\n",
        "Pin: origin \"deb.debian.org\"\n",
        "Pin-Priority: 300\n",
        "#\n",
        "Package: chromium*\n",
        "Pin: origin \"deb.debian.org\"\n",
        "Pin-Priority: 700\n",
        "EOF\n",
        "# Install chromium and chromium-driver\n",
        "apt-get update\n",
        "apt-get install chromium chromium-driver\n",
        "# Install selenium\n",
        "pip install selenium\n",
        "#--"
      ],
      "metadata": {
        "id": "rOUckRJ3042y",
        "cellView": "form",
        "collapsed": true
      },
      "execution_count": null,
      "outputs": []
    },
    {
      "cell_type": "code",
      "source": [],
      "metadata": {
        "id": "dkmDK_Ksrr-y"
      },
      "execution_count": null,
      "outputs": []
    },
    {
      "cell_type": "markdown",
      "source": [],
      "metadata": {
        "id": "nsjX6SF-aobz"
      }
    },
    {
      "cell_type": "code",
      "source": [
        "import os\n",
        "from pyngrok import ngrok\n",
        "\n",
        "# Detenemos cualquier túnel ngrok existente\n",
        "ngrok.kill()\n",
        "\n",
        "# Matamos cualquier proceso de Streamlit que esté corriendo\n",
        "os.system(\"pkill streamlit\")\n",
        "\n",
        "# Autenticamos ngrok (asegúrate de reemplazar el authtoken con el tuyo propio)\n",
        "ngrok.set_auth_token(\"2fq5SKjjRloeY3ArZ54VVneOODE_3QRoFk4zBPBTxadHXk975\")\n",
        "\n",
        "# Iniciamos la aplicación de Streamlit en segundo plano\n",
        "os.system(\"streamlit run app.py &\")\n",
        "\n",
        "# Conectamos ngrok al puerto de Streamlit\n",
        "public_url = ngrok.connect(8501)  # Asegúrate de que el puerto coincida con el de Streamlit\n",
        "print(f\"Streamlit app is live at: {public_url}\")"
      ],
      "metadata": {
        "id": "mpyjGGCqrtdX",
        "colab": {
          "base_uri": "https://localhost:8080/"
        },
        "outputId": "02997114-32d1-4675-c403-b13fdc90b46a"
      },
      "execution_count": 2,
      "outputs": [
        {
          "output_type": "stream",
          "name": "stdout",
          "text": [
            "Streamlit app is live at: NgrokTunnel: \"https://920c-34-86-128-49.ngrok-free.app\" -> \"http://localhost:8501\"\n"
          ]
        }
      ]
    }
  ]
}